{
 "cells": [
  {
   "cell_type": "code",
   "execution_count": 2,
   "id": "ad78a189",
   "metadata": {},
   "outputs": [],
   "source": [
    "from typing import NamedTuple"
   ]
  },
  {
   "cell_type": "code",
   "execution_count": 3,
   "id": "adc2da69",
   "metadata": {},
   "outputs": [],
   "source": [
    "from Fermi import *\n",
    "from BandBend import *"
   ]
  },
  {
   "cell_type": "code",
   "execution_count": 4,
   "id": "ef2810c7",
   "metadata": {},
   "outputs": [],
   "source": [
    "class Semiconductor(NamedTuple):\n",
    "    me: float\n",
    "    mh: float\n",
    "    Jd: float\n",
    "    E_g: float\n",
    "    Nd: float\n",
    "    Nas: float\n",
    "    Eas: float\n",
    "    epsilon: float\n",
    "    E_f: float"
   ]
  },
  {
   "cell_type": "markdown",
   "id": "3c1b563e",
   "metadata": {},
   "source": [
    "assume Si is shallowed with P donors -> $J_d = 0.045$"
   ]
  },
  {
   "cell_type": "code",
   "execution_count": 5,
   "id": "ff71336c",
   "metadata": {},
   "outputs": [],
   "source": [
    "Si = Semiconductor(me=0.36, mh=0.49, Jd=0.045, E_g=1.12, Nd=1e17, Nas=1e16, Eas=1., epsilon=11.7, E_f=1.)"
   ]
  },
  {
   "cell_type": "code",
   "execution_count": 6,
   "id": "28c6e251",
   "metadata": {},
   "outputs": [
    {
     "name": "stdout",
     "output_type": "stream",
     "text": [
      "Semiconductor(me=0.36, mh=0.49, Jd=0.045, E_g=1.12, Nd=1e+17, Nas=1e+16, Eas=1.0, epsilon=11.7, E_f=1.0)\n"
     ]
    }
   ],
   "source": [
    "print(Si)"
   ]
  },
  {
   "cell_type": "code",
   "execution_count": 7,
   "id": "1f4a5c2e",
   "metadata": {},
   "outputs": [
    {
     "name": "stdout",
     "output_type": "stream",
     "text": [
      "Nd=1e+17     nc=5.424986683072263e+18\n",
      "Fermi level = 1.0155680128186937, \t needed 27 iterations\n"
     ]
    }
   ],
   "source": [
    "Ef_dichotomy, counter = calculate_fermi_level(me=Si.me, mh=Si.mh, t=300, Jd=Si.Jd, \n",
    "                                              Ef0=0.57, Ef1=Si.E_g, Ec=Si.E_g, \n",
    "                                              Nd=Si.Nd, method='dichotomy')"
   ]
  },
  {
   "cell_type": "code",
   "execution_count": 1,
   "id": "04d9b432",
   "metadata": {},
   "outputs": [
    {
     "ename": "NameError",
     "evalue": "name 'calculate_band_bend' is not defined",
     "output_type": "error",
     "traceback": [
      "\u001b[1;31m---------------------------------------------------------------------------\u001b[0m",
      "\u001b[1;31mNameError\u001b[0m                                 Traceback (most recent call last)",
      "Cell \u001b[1;32mIn[1], line 1\u001b[0m\n\u001b[1;32m----> 1\u001b[0m phi_dichotomy \u001b[38;5;241m=\u001b[39m \u001b[43mcalculate_band_bend\u001b[49m(epsilon\u001b[38;5;241m=\u001b[39mSi\u001b[38;5;241m.\u001b[39mepsilon, Nd\u001b[38;5;241m=\u001b[39mSi\u001b[38;5;241m.\u001b[39mNd, t\u001b[38;5;241m=\u001b[39m\u001b[38;5;241m300\u001b[39m, Nas\u001b[38;5;241m=\u001b[39mSi\u001b[38;5;241m.\u001b[39mNas, Eas\u001b[38;5;241m=\u001b[39mSi\u001b[38;5;241m.\u001b[39mEas, Eout\u001b[38;5;241m=\u001b[39m\u001b[38;5;241m0\u001b[39m,\n\u001b[0;32m      2\u001b[0m                                         Ef\u001b[38;5;241m=\u001b[39mSi\u001b[38;5;241m.\u001b[39mE_f, phi0\u001b[38;5;241m=\u001b[39m\u001b[38;5;241m0\u001b[39m, phi1\u001b[38;5;241m=\u001b[39m\u001b[38;5;241m0.5\u001b[39m, method\u001b[38;5;241m=\u001b[39m\u001b[38;5;124m'\u001b[39m\u001b[38;5;124mdichotomy\u001b[39m\u001b[38;5;124m'\u001b[39m, tolerance\u001b[38;5;241m=\u001b[39m\u001b[38;5;241m1e-7\u001b[39m)\n",
      "\u001b[1;31mNameError\u001b[0m: name 'calculate_band_bend' is not defined"
     ]
    }
   ],
   "source": [
    "phi_dichotomy = calculate_band_bend(epsilon=Si.epsilon, Nd=Si.Nd, t=300, Nas=Si.Nas, Eas=Si.Eas, Eout=0,\n",
    "                                        Ef=Si.E_f, phi0=0, phi1=0.5, method='dichotomy', tolerance=1e-7)"
   ]
  },
  {
   "cell_type": "code",
   "execution_count": null,
   "id": "3372e843",
   "metadata": {},
   "outputs": [],
   "source": []
  }
 ],
 "metadata": {
  "kernelspec": {
   "display_name": "Python 3 (ipykernel)",
   "language": "python",
   "name": "python3"
  },
  "language_info": {
   "codemirror_mode": {
    "name": "ipython",
    "version": 3
   },
   "file_extension": ".py",
   "mimetype": "text/x-python",
   "name": "python",
   "nbconvert_exporter": "python",
   "pygments_lexer": "ipython3",
   "version": "3.9.13"
  }
 },
 "nbformat": 4,
 "nbformat_minor": 5
}
