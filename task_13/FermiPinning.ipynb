{
 "cells": [
  {
   "cell_type": "code",
   "execution_count": 6,
   "id": "ad78a189",
   "metadata": {},
   "outputs": [],
   "source": [
    "from typing import NamedTuple"
   ]
  },
  {
   "cell_type": "code",
   "execution_count": 3,
   "id": "adc2da69",
   "metadata": {},
   "outputs": [],
   "source": [
    "from Fermi import *\n",
    "from BandBend import *"
   ]
  },
  {
   "cell_type": "code",
   "execution_count": 10,
   "id": "ef2810c7",
   "metadata": {},
   "outputs": [],
   "source": [
    "class Semiconductor(NamedTuple):\n",
    "    me: float\n",
    "    mh: float\n",
    "    Jd: float\n",
    "    E_g: float\n",
    "    Nd: float\n",
    "    Nas: float\n",
    "    Eas: float\n",
    "    epsilon: float\n",
    "    E_f: float"
   ]
  },
  {
   "cell_type": "markdown",
   "id": "3c1b563e",
   "metadata": {},
   "source": [
    "assume Si is shallowed with P donors -> $J_d = 0.045$"
   ]
  },
  {
   "cell_type": "code",
   "execution_count": 11,
   "id": "ff71336c",
   "metadata": {},
   "outputs": [],
   "source": [
    "Si = Semiconductor(me=0.36, mh=0.49, Jd=0.045, E_g=1.12, Nd=1e17, Nas=1e16, Eas=1., epsilon=11.7, E_f=1.)"
   ]
  },
  {
   "cell_type": "code",
   "execution_count": 12,
   "id": "28c6e251",
   "metadata": {},
   "outputs": [
    {
     "name": "stdout",
     "output_type": "stream",
     "text": [
      "Semiconductor(me=0.36, mh=0.49, Jd=0.045, E_g=1.12, Nd=1e+17, Nas=1e+16, Eas=1.0, epsilon=11.7, E_f=1.0)\n"
     ]
    }
   ],
   "source": [
    "print(Si)"
   ]
  },
  {
   "cell_type": "code",
   "execution_count": null,
   "id": "1f4a5c2e",
   "metadata": {},
   "outputs": [],
   "source": []
  }
 ],
 "metadata": {
  "kernelspec": {
   "display_name": "Python 3 (ipykernel)",
   "language": "python",
   "name": "python3"
  },
  "language_info": {
   "codemirror_mode": {
    "name": "ipython",
    "version": 3
   },
   "file_extension": ".py",
   "mimetype": "text/x-python",
   "name": "python",
   "nbconvert_exporter": "python",
   "pygments_lexer": "ipython3",
   "version": "3.9.13"
  }
 },
 "nbformat": 4,
 "nbformat_minor": 5
}
