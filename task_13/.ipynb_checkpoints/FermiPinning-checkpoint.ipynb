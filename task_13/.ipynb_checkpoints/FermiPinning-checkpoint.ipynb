{
 "cells": [
  {
   "cell_type": "code",
   "execution_count": 3,
   "id": "ad78a189",
   "metadata": {},
   "outputs": [],
   "source": [
    "from typing import NamedTuple"
   ]
  },
  {
   "cell_type": "code",
   "execution_count": 4,
   "id": "adc2da69",
   "metadata": {},
   "outputs": [],
   "source": [
    "from Fermi import *\n",
    "from BandBend import *"
   ]
  },
  {
   "cell_type": "code",
   "execution_count": 5,
   "id": "ef2810c7",
   "metadata": {},
   "outputs": [],
   "source": [
    "class Semiconductor(NamedTuple):\n",
    "    me: float\n",
    "    mh: float\n",
    "    Jd: float\n",
    "    E_g: float\n",
    "    Nd: float\n",
    "    Nas: float\n",
    "    Eas: float\n",
    "    epsilon: float\n",
    "    E_f: float"
   ]
  },
  {
   "cell_type": "markdown",
   "id": "3c1b563e",
   "metadata": {},
   "source": [
    "assume Si is shallowed with P donors -> $J_d = 0.045$"
   ]
  },
  {
   "cell_type": "code",
   "execution_count": 6,
   "id": "ff71336c",
   "metadata": {},
   "outputs": [],
   "source": [
    "Si = Semiconductor(me=0.36, mh=0.49, Jd=0.045, E_g=1.12, Nd=1e17, Nas=1e16, Eas=1., epsilon=11.7, E_f=1.)"
   ]
  },
  {
   "cell_type": "code",
   "execution_count": 7,
   "id": "28c6e251",
   "metadata": {},
   "outputs": [
    {
     "name": "stdout",
     "output_type": "stream",
     "text": [
      "Semiconductor(me=0.36, mh=0.49, Jd=0.045, E_g=1.12, Nd=1e+17, Nas=1e+16, Eas=1.0, epsilon=11.7, E_f=1.0)\n"
     ]
    }
   ],
   "source": [
    "print(Si)"
   ]
  },
  {
   "cell_type": "code",
   "execution_count": 12,
   "id": "1f4a5c2e",
   "metadata": {},
   "outputs": [
    {
     "name": "stdout",
     "output_type": "stream",
     "text": [
      "Nd=1e+17     nc=5.424986683072263e+18\n",
      "Fermi level = 1.0155657958984372, \t needed 14 iterations\n"
     ]
    }
   ],
   "source": [
    "Ef_dichotomy, counter = calculate_fermi_level(me=Si.me, mh=Si.mh, t=300, Jd=Si.Jd, \n",
    "                                              Efpl=0.57, Efneg=Si.E_g, Ec=Si.E_g, \n",
    "                                              Nd=Si.Nd, method='dichotomy')"
   ]
  },
  {
   "cell_type": "code",
   "execution_count": 14,
   "id": "6f47d976",
   "metadata": {},
   "outputs": [
    {
     "name": "stdout",
     "output_type": "stream",
     "text": [
      "Fermi level = None, \t needed 0 iterations\n"
     ]
    }
   ],
   "source": [
    "Ef_dichotomy, counter = calculate_fermi_level(me=Si.me, mh=Si.mh, t=300, Jd=Si.Jd, \n",
    "                                              Efpl=0.57, Efneg=Si.E_g, Ec=Si.E_g, \n",
    "                                              Nd=Si.Nd, method='fixed-point')"
   ]
  },
  {
   "cell_type": "code",
   "execution_count": null,
   "id": "dff10f0e",
   "metadata": {},
   "outputs": [],
   "source": [
    "phi, counter = calculate_band_bend(epsilon=Si.epsilon,)"
   ]
  }
 ],
 "metadata": {
  "kernelspec": {
   "display_name": "Python 3 (ipykernel)",
   "language": "python",
   "name": "python3"
  },
  "language_info": {
   "codemirror_mode": {
    "name": "ipython",
    "version": 3
   },
   "file_extension": ".py",
   "mimetype": "text/x-python",
   "name": "python",
   "nbconvert_exporter": "python",
   "pygments_lexer": "ipython3",
   "version": "3.9.13"
  }
 },
 "nbformat": 4,
 "nbformat_minor": 5
}
